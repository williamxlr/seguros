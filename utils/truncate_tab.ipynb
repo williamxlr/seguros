{
 "cells": [
  {
   "cell_type": "code",
   "execution_count": null,
   "metadata": {},
   "outputs": [
    {
     "name": "stdout",
     "output_type": "stream",
     "text": [
      "Restricciones de claves foráneas deshabilitadas.\n",
      "Datos de la tabla agents eliminados correctamente.\n",
      "Datos de la tabla premium eliminados correctamente.\n",
      "Datos de la tabla payments eliminados correctamente.\n",
      "Datos de la tabla insured eliminados correctamente.\n",
      "Datos de la tabla claims eliminados correctamente.\n",
      "Datos de la tabla policy eliminados correctamente.\n",
      "Restricciones de claves foráneas habilitadas.\n",
      "Datos eliminados correctamente en SQL Server.\n"
     ]
    }
   ],
   "source": [
    "import pymssql\n",
    "\n",
    "# Conectar a SQL Server utilizando pymssql\n",
    "conn = pymssql.connect(\n",
    "    server=\"\",  # Dirección del servidor\n",
    "    user=\"\",         # Nombre de usuario\n",
    "    password=\"\",     # Contraseña\n",
    "    database=\"monokera\"        # Nombre de la base de datos\n",
    ")\n",
    "\n",
    "cursor = conn.cursor()\n",
    "\n",
    "# Función para eliminar los datos de las tablas\n",
    "def delete_rows():\n",
    "    try:\n",
    "        # Deshabilitar las restricciones de claves foráneas en todas las tablas\n",
    "        cursor.execute(\"EXEC sp_MSforeachtable 'ALTER TABLE ? NOCHECK CONSTRAINT all'\")\n",
    "        print(\"Restricciones de claves foráneas deshabilitadas.\")\n",
    "\n",
    "        # Definir las tablas que deseas limpiar\n",
    "        tables_to_delete_from = [\n",
    "            'agents',\n",
    "            'premium',\n",
    "            'payments',\n",
    "            'insured',\n",
    "            'claims',\n",
    "            'policy',  # Asegúrate de incluir esta tabla\n",
    "        ]\n",
    "        \n",
    "        # Ejecutar DELETE para cada tabla\n",
    "        for table in tables_to_delete_from:\n",
    "            cursor.execute(f\"DELETE FROM {table}\")\n",
    "            print(f\"Datos de la tabla {table} eliminados correctamente.\")\n",
    "        \n",
    "        # Confirmar los cambios en la base de datos\n",
    "        conn.commit()\n",
    "\n",
    "        # Habilitar nuevamente las restricciones de claves foráneas\n",
    "        cursor.execute(\"EXEC sp_MSforeachtable 'ALTER TABLE ? CHECK CONSTRAINT all'\")\n",
    "        print(\"Restricciones de claves foráneas habilitadas.\")\n",
    "\n",
    "    except Exception as e:\n",
    "        print(f\"Error al eliminar los datos de las tablas: {e}\")\n",
    "        conn.rollback()\n",
    "\n",
    "# Llamar a la función para eliminar los datos\n",
    "delete_rows()\n",
    "\n",
    "# Cerrar la conexión\n",
    "cursor.close()\n",
    "conn.close()\n",
    "\n",
    "print(\"Datos eliminados correctamente en SQL Server.\")\n"
   ]
  }
 ],
 "metadata": {
  "kernelspec": {
   "display_name": "Python 3",
   "language": "python",
   "name": "python3"
  },
  "language_info": {
   "codemirror_mode": {
    "name": "ipython",
    "version": 3
   },
   "file_extension": ".py",
   "mimetype": "text/x-python",
   "name": "python",
   "nbconvert_exporter": "python",
   "pygments_lexer": "ipython3",
   "version": "3.11.5"
  }
 },
 "nbformat": 4,
 "nbformat_minor": 2
}
